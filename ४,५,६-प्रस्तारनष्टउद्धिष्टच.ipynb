{
 "cells": [
  {
   "cell_type": "code",
   "execution_count": 1,
   "id": "3b2417d7",
   "metadata": {},
   "outputs": [],
   "source": [
    "from Boli1 import *"
   ]
  },
  {
   "cell_type": "code",
   "execution_count": 2,
   "id": "5d725c1f",
   "metadata": {},
   "outputs": [],
   "source": [
    "ग = '§'\n",
    "ल = '|'"
   ]
  },
  {
   "cell_type": "code",
   "execution_count": 3,
   "id": "0c6fdf1c",
   "metadata": {},
   "outputs": [],
   "source": [
    "ग = '0'\n",
    "ल = '1'"
   ]
  },
  {
   "cell_type": "code",
   "execution_count": 26,
   "id": "d62b607e",
   "metadata": {},
   "outputs": [],
   "source": [
    "क्रमशः x में [3, 8, 1]:\n",
    "    क्रमशः y में [3, 8, 1]:\n",
    "        pass"
   ]
  },
  {
   "cell_type": "markdown",
   "id": "b3c656be",
   "metadata": {},
   "source": [
    "प्रथम प्रत्यय बहुत ही "
   ]
  },
  {
   "cell_type": "code",
   "execution_count": 5,
   "id": "ce0be293",
   "metadata": {},
   "outputs": [],
   "source": [
    "सर्ग पिंगलप्रस्तार ( स्थान , पूर्वफल = [[ग], [ल]]):\n",
    "    यदि स्थान < 1: सर्गफल अज्ञात\n",
    "    यदि स्थान == 1: सर्गफल पूर्वफल\n",
    "    फलपात्र = []\n",
    "    फलपात्र += अध्यास (समीकरण पंक्ति: पंक्ति + [ग], पूर्वफल)\n",
    "    फलपात्र += अध्यास (समीकरण पंक्ति: पंक्ति + [ल], पूर्वफल)\n",
    "    सर्गफल पिंगलप्रस्तार (स्थान-1, फलपात्र)"
   ]
  },
  {
   "cell_type": "code",
   "execution_count": 6,
   "id": "d7788c27",
   "metadata": {},
   "outputs": [
    {
     "name": "stdout",
     "output_type": "stream",
     "text": [
      "   1  2  3\n",
      "1  §  §  §\n",
      "2  |  §  §\n",
      "3  §  |  §\n",
      "4  |  |  §\n",
      "5  §  §  |\n",
      "6  |  §  |\n",
      "7  §  |  |\n",
      "8  |  |  |\n"
     ]
    }
   ],
   "source": [
    "दर्शयसारिणी( पिंगलप्रस्तार(3) )"
   ]
  },
  {
   "cell_type": "code",
   "execution_count": 8,
   "id": "20b53ca6",
   "metadata": {},
   "outputs": [
    {
     "name": "stdout",
     "output_type": "stream",
     "text": [
      "    1  2  3  4\n",
      "1   §  §  §  §\n",
      "2   §  §  §  |\n",
      "3   §  §  |  §\n",
      "4   §  §  |  |\n",
      "5   §  |  §  §\n",
      "6   §  |  §  |\n",
      "7   §  |  |  §\n",
      "8   §  |  |  |\n",
      "9   |  §  §  §\n",
      "10  |  §  §  |\n",
      "11  |  §  |  §\n",
      "12  |  §  |  |\n",
      "13  |  |  §  §\n",
      "14  |  |  §  |\n",
      "15  |  |  |  §\n",
      "16  |  |  |  |\n"
     ]
    }
   ],
   "source": [
    "दर्शयसारिणी(श्रेणी (अध्यास (समीकरण पंक्ति: श्रेणी(अधोमुख(पंक्ति)), पिंगलप्रस्तार(4))))"
   ]
  },
  {
   "cell_type": "markdown",
   "id": "d649032a",
   "metadata": {},
   "source": [
    "#### पर्याय विधान\n",
    "\n",
    "प्रस्तार के अन्य विधान भरत केदार एवं हेमचन्द्र द्वारा:"
   ]
  },
  {
   "cell_type": "code",
   "execution_count": 18,
   "id": "0ba3b2f6",
   "metadata": {},
   "outputs": [],
   "source": [
    "सर्ग प्रस्तारप्रष्ठपंक्ती(दत्तपंक्ती):\n",
    "    गास्थान = पदस्थान(दत्तपंक्ती, ग)\n",
    "    यदि गास्थान == अज्ञात: सर्गफल अज्ञात\n",
    "    फलपंक्ती = [ग]*(गास्थान) + [ल] + दत्तपंक्ती[गास्थान+1:]\n",
    "    सर्गफल फलपंक्ती\n",
    "\n",
    "सर्ग भरतकेदारप्रस्तार(स्थान):\n",
    "    नवपंक्ती = [ग] * स्थान\n",
    "    फल = []\n",
    "    यदा नवपंक्ती != अज्ञात:\n",
    "        फल += [नवपंक्ती]\n",
    "        नवपंक्ती = प्रस्तारप्रष्ठपंक्ती(नवपंक्ती)\n",
    "    सर्गफल फल"
   ]
  },
  {
   "cell_type": "code",
   "execution_count": 23,
   "id": "84461bbf",
   "metadata": {},
   "outputs": [
    {
     "data": {
      "text/plain": [
       "[['§', '§', '§'],\n",
       " ['|', '§', '§'],\n",
       " ['§', '|', '§'],\n",
       " ['|', '|', '§'],\n",
       " ['§', '§', '|'],\n",
       " ['|', '§', '|'],\n",
       " ['§', '|', '|'],\n",
       " ['|', '|', '|']]"
      ]
     },
     "execution_count": 23,
     "metadata": {},
     "output_type": "execute_result"
    }
   ],
   "source": [
    "भरतकेदारप्रस्तार(3)"
   ]
  },
  {
   "cell_type": "code",
   "execution_count": null,
   "id": "c1b8737d",
   "metadata": {},
   "outputs": [],
   "source": [
    "# सम्भवतः sorting\n",
    "सर्ग हेमचन्द्रप्रस्तार:\n",
    "    "
   ]
  },
  {
   "cell_type": "code",
   "execution_count": null,
   "id": "2956c835",
   "metadata": {},
   "outputs": [],
   "source": []
  },
  {
   "cell_type": "markdown",
   "id": "681e018f",
   "metadata": {},
   "source": [
    "-------\n",
    "\n",
    "सहायक सर्गाणी :\n",
    "---------------\n"
   ]
  },
  {
   "cell_type": "code",
   "execution_count": 3,
   "id": "dc6be5ac",
   "metadata": {},
   "outputs": [],
   "source": [
    "import pandas as pd\n",
    "\n",
    "सर्ग सारिणी(क):\n",
    "    यदि पादसंख्या (क) == 0: सर्गफल अज्ञात\n",
    "    फल = pd.DataFrame(क, index=क्रमश्रेणी(1, पादसंख्या (क)+1), columns = क्रमश्रेणी( 1,पादसंख्या(क[0])+1 ))\n",
    "    सर्गफल फल\n",
    "    \n",
    "सर्ग दर्शयसारिणी(क):\n",
    "    दर्शय(सारिणी(क))"
   ]
  },
  {
   "cell_type": "code",
   "execution_count": 13,
   "id": "42948d7c",
   "metadata": {},
   "outputs": [],
   "source": [
    "def पदस्थान(a_list, value):\n",
    "    try:\n",
    "        return a_list.index(value)\n",
    "    except ValueError:\n",
    "        return None"
   ]
  },
  {
   "cell_type": "code",
   "execution_count": null,
   "id": "90ef2713",
   "metadata": {},
   "outputs": [],
   "source": []
  },
  {
   "cell_type": "markdown",
   "id": "8bb6d7d1",
   "metadata": {},
   "source": [
    "-------\n",
    "\n",
    "सहायक वृत्त :\n",
    "-----------"
   ]
  },
  {
   "cell_type": "code",
   "execution_count": 16,
   "id": "86bd8eef",
   "metadata": {},
   "outputs": [
    {
     "name": "stdout",
     "output_type": "stream",
     "text": [
      "5\n",
      "9\n",
      "6\n"
     ]
    }
   ],
   "source": [
    "x = [1, 5, 2]\n",
    "क्रमशः क में x का विस्तार:\n",
    "    दर्शय(क+4)"
   ]
  },
  {
   "cell_type": "markdown",
   "id": "32a6bda8",
   "metadata": {},
   "source": [
    "#### TODO:\n",
    "\n",
    "- sorting by hemchandra prastar\n",
    "- meru prastar and cellular automata"
   ]
  },
  {
   "cell_type": "markdown",
   "id": "19602a0b",
   "metadata": {},
   "source": [
    "विचार\n",
    "------\n",
    "\n",
    "#### व्रहत रूप\n",
    "\n",
    "- time evolution\n",
    "- Finite difference eq.\n",
    "- एक से अनेक\n",
    "  - क्या स्रजन का उपादान कारण एक है। निमित्त कारण।\n",
    "  - **Krauss' theory of everything from nothing.**\n",
    "- Cellular automata\n",
    "  - **Oldish Theory of everything**\n",
    "- Kernels in image processing\n",
    "  - 2d, 3d, 4d and beyond\n",
    "- Generalization to graph\n",
    "  - Physics as a subset with certain rules for connections.\n",
    "- Thus, समष्टी में व्षटी, \n",
    "  - सूक्ष्म सोच से ब्रह्म का आह्वाहन।\n",
    "  - क्या विचार अपि एक से अनेक हैं।\n",
    "- problem of initial condition\n",
    "- land of thoughts and material, which is real\n",
    "- does universe also keep expanding like Meru or does it starts shrinking again.\n",
    "  - लय एवं विलय\n",
    "  - परिर्वतन, नूतन, चक्र\n",
    "\n",
    "#### इतिहास\n",
    "\n",
    "- क्यों यह शास्त्र आम जनमानस में प्रचलित नहीं है।\n",
    "  - "
   ]
  }
 ],
 "metadata": {
  "kernelspec": {
   "display_name": "Python 3 (ipykernel)",
   "language": "python",
   "name": "python3"
  },
  "language_info": {
   "codemirror_mode": {
    "name": "ipython",
    "version": 3
   },
   "file_extension": ".py",
   "mimetype": "text/x-python",
   "name": "python",
   "nbconvert_exporter": "python",
   "pygments_lexer": "ipython3",
   "version": "3.10.4"
  }
 },
 "nbformat": 4,
 "nbformat_minor": 5
}
